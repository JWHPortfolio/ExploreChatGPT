{
 "cells": [
  {
   "cell_type": "markdown",
   "id": "2c7c1bf6",
   "metadata": {},
   "source": [
    "## Adapted from a [youtube video](https://www.youtube.com/watch?v=2izXQUoXyjA&ab_channel=AlexTheAnalyst)"
   ]
  },
  {
   "cell_type": "code",
   "execution_count": null,
   "id": "c473dc73",
   "metadata": {},
   "outputs": [],
   "source": [
    "import openai"
   ]
  },
  {
   "cell_type": "code",
   "execution_count": null,
   "id": "eaf1e5e2",
   "metadata": {},
   "outputs": [],
   "source": [
    "api_key = open(\"chatgpt.txt\").read()\n",
    "openai.api_key = api_key"
   ]
  },
  {
   "cell_type": "code",
   "execution_count": null,
   "id": "09784634",
   "metadata": {},
   "outputs": [],
   "source": [
    "def get_gpt_response(prompt, max_tokens=200):\n",
    "    prompt = f\"Answer the following question: {prompt}\\nAnswer:\"\n",
    "    response = openai.Completion.create(\n",
    "        engine=\"davinci\",\n",
    "        prompt=prompt,\n",
    "        max_tokens=500,\n",
    "        n=1,\n",
    "        stop=\"\\n\",  # Set a stop sequence here\n",
    "        temperature=0.7,\n",
    "    )\n",
    "    return response.choices[0].text.strip()"
   ]
  },
  {
   "cell_type": "code",
   "execution_count": null,
   "id": "d84b498d",
   "metadata": {},
   "outputs": [],
   "source": [
    "prompt = \"What are the benefits of using renewable energy?\"\n",
    "response = get_gpt_response(prompt)\n",
    "print(\"Response: \", response)"
   ]
  },
  {
   "cell_type": "code",
   "execution_count": null,
   "id": "38ed3cbe",
   "metadata": {},
   "outputs": [],
   "source": [
    "prompt = \"What is a good Data Visualization Tools in Python?\"\n",
    "response = get_gpt_response(prompt)\n",
    "print(response)"
   ]
  },
  {
   "cell_type": "code",
   "execution_count": null,
   "id": "fed3f27a",
   "metadata": {},
   "outputs": [],
   "source": [
    "my_list = [1,2,3]\n",
    "\n",
    "for num in my_list\n",
    "    num ** 2"
   ]
  },
  {
   "cell_type": "code",
   "execution_count": null,
   "id": "5b6d45d9",
   "metadata": {},
   "outputs": [],
   "source": [
    "my_list = [1,2,3]\n",
    "for num in my_list:\n",
    "    num ** 2\n"
   ]
  },
  {
   "cell_type": "code",
   "execution_count": null,
   "id": "bcda1e5f",
   "metadata": {},
   "outputs": [],
   "source": [
    "my_list = [1,2,3]\n",
    "\n",
    "for num in my_list:\n",
    "    num "
   ]
  }
 ],
 "metadata": {
  "kernelspec": {
   "display_name": "Python 3 (ipykernel)",
   "language": "python",
   "name": "python3"
  },
  "language_info": {
   "codemirror_mode": {
    "name": "ipython",
    "version": 3
   },
   "file_extension": ".py",
   "mimetype": "text/x-python",
   "name": "python",
   "nbconvert_exporter": "python",
   "pygments_lexer": "ipython3",
   "version": "3.10.6"
  }
 },
 "nbformat": 4,
 "nbformat_minor": 5
}
