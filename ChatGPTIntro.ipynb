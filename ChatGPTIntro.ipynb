{
 "cells": [
  {
   "cell_type": "code",
   "execution_count": 1,
   "metadata": {
    "colab": {
     "base_uri": "https://localhost:8080/"
    },
    "executionInfo": {
     "elapsed": 7673,
     "status": "ok",
     "timestamp": 1692707180859,
     "user": {
      "displayName": "John Hebeler",
      "userId": "00255102143439611405"
     },
     "user_tz": 240
    },
    "id": "mVO5zYKLNQpb",
    "outputId": "5437d80d-752b-43b5-aad0-a9acd793fef2"
   },
   "outputs": [
    {
     "name": "stdout",
     "output_type": "stream",
     "text": [
      "Collecting openai\n",
      "  Downloading openai-0.27.9-py3-none-any.whl (75 kB)\n",
      "\u001b[2K     \u001b[90m━━━━━━━━━━━━━━━━━━━━━━━━━━━━━━━━━━━━━━━━\u001b[0m \u001b[32m75.5/75.5 kB\u001b[0m \u001b[31m1.1 MB/s\u001b[0m eta \u001b[36m0:00:00\u001b[0ma \u001b[36m0:00:01\u001b[0m\n",
      "\u001b[?25hRequirement already satisfied: requests>=2.20 in /usr/local/lib/python3.10/dist-packages (from openai) (2.31.0)\n",
      "Collecting tqdm (from openai)\n",
      "  Downloading tqdm-4.66.1-py3-none-any.whl (78 kB)\n",
      "\u001b[2K     \u001b[90m━━━━━━━━━━━━━━━━━━━━━━━━━━━━━━━━━━━━━━━━\u001b[0m \u001b[32m78.3/78.3 kB\u001b[0m \u001b[31m4.4 MB/s\u001b[0m eta \u001b[36m0:00:00\u001b[0m\n",
      "\u001b[?25hRequirement already satisfied: aiohttp in /usr/local/lib/python3.10/dist-packages (from openai) (3.8.4)\n",
      "Requirement already satisfied: charset-normalizer<4,>=2 in /usr/local/lib/python3.10/dist-packages (from requests>=2.20->openai) (3.1.0)\n",
      "Requirement already satisfied: idna<4,>=2.5 in /usr/local/lib/python3.10/dist-packages (from requests>=2.20->openai) (3.4)\n",
      "Requirement already satisfied: urllib3<3,>=1.21.1 in /usr/local/lib/python3.10/dist-packages (from requests>=2.20->openai) (1.26.16)\n",
      "Requirement already satisfied: certifi>=2017.4.17 in /usr/local/lib/python3.10/dist-packages (from requests>=2.20->openai) (2023.5.7)\n",
      "Requirement already satisfied: attrs>=17.3.0 in /usr/local/lib/python3.10/dist-packages (from aiohttp->openai) (23.1.0)\n",
      "Requirement already satisfied: multidict<7.0,>=4.5 in /usr/local/lib/python3.10/dist-packages (from aiohttp->openai) (6.0.4)\n",
      "Requirement already satisfied: async-timeout<5.0,>=4.0.0a3 in /usr/local/lib/python3.10/dist-packages (from aiohttp->openai) (4.0.2)\n",
      "Requirement already satisfied: yarl<2.0,>=1.0 in /usr/local/lib/python3.10/dist-packages (from aiohttp->openai) (1.9.2)\n",
      "Requirement already satisfied: frozenlist>=1.1.1 in /usr/local/lib/python3.10/dist-packages (from aiohttp->openai) (1.3.3)\n",
      "Requirement already satisfied: aiosignal>=1.1.2 in /usr/local/lib/python3.10/dist-packages (from aiohttp->openai) (1.3.1)\n",
      "Installing collected packages: tqdm, openai\n",
      "Successfully installed openai-0.27.9 tqdm-4.66.1\n",
      "\u001b[33mWARNING: Running pip as the 'root' user can result in broken permissions and conflicting behaviour with the system package manager. It is recommended to use a virtual environment instead: https://pip.pypa.io/warnings/venv\u001b[0m\u001b[33m\n",
      "\u001b[0m"
     ]
    }
   ],
   "source": [
    "!pip install openai\n"
   ]
  },
  {
   "cell_type": "code",
   "execution_count": 2,
   "metadata": {
    "colab": {
     "base_uri": "https://localhost:8080/"
    },
    "executionInfo": {
     "elapsed": 376,
     "status": "ok",
     "timestamp": 1692707241727,
     "user": {
      "displayName": "John Hebeler",
      "userId": "00255102143439611405"
     },
     "user_tz": 240
    },
    "id": "tTxDdu_iNaBj",
    "outputId": "f63b51eb-9bb2-4c5c-e3e0-163e71af1275"
   },
   "outputs": [
    {
     "name": "stdout",
     "output_type": "stream",
     "text": [
      "0.27.9\n"
     ]
    }
   ],
   "source": [
    "import openai\n",
    "print(openai.VERSION)"
   ]
  },
  {
   "cell_type": "markdown",
   "metadata": {
    "id": "jXcbDEfuSDOz"
   },
   "source": [
    "Set up text file to contain api key and org on seperate lines\n",
    "print out the values"
   ]
  },
  {
   "cell_type": "code",
   "execution_count": null,
   "metadata": {
    "executionInfo": {
     "elapsed": 193,
     "status": "ok",
     "timestamp": 1692707538834,
     "user": {
      "displayName": "John Hebeler",
      "userId": "00255102143439611405"
     },
     "user_tz": 240
    },
    "id": "cLLdvHMoNrvh"
   },
   "outputs": [],
   "source": [
    "api_key = open(\"chatgpt.txt\").read()\n",
    "openai.api_key = api_key"
   ]
  },
  {
   "cell_type": "markdown",
   "metadata": {
    "id": "TOdUlLewUs7o"
   },
   "source": [
    "[API Pricing](https://openai.com/pricing)"
   ]
  },
  {
   "cell_type": "code",
   "execution_count": 9,
   "metadata": {
    "id": "y2-L4EfrOj5O"
   },
   "outputs": [
    {
     "data": {
      "text/plain": [
       "openai.openai_object.OpenAIObject"
      ]
     },
     "execution_count": 9,
     "metadata": {},
     "output_type": "execute_result"
    }
   ],
   "source": [
    "models = openai.Model.list()\n",
    "type(models)"
   ]
  },
  {
   "cell_type": "code",
   "execution_count": 10,
   "metadata": {
    "id": "7UFpJXAoVBho"
   },
   "outputs": [
    {
     "data": {
      "text/plain": [
       "dict_keys(['object', 'data'])"
      ]
     },
     "execution_count": 10,
     "metadata": {},
     "output_type": "execute_result"
    }
   ],
   "source": [
    "models.keys()"
   ]
  },
  {
   "cell_type": "code",
   "execution_count": 11,
   "metadata": {
    "id": "9mBtdBH2VD0w"
   },
   "outputs": [
    {
     "data": {
      "text/plain": [
       "58"
      ]
     },
     "execution_count": 11,
     "metadata": {},
     "output_type": "execute_result"
    }
   ],
   "source": [
    "all_models = [model['id'] for model in models['data']]\n",
    "len(all_models)"
   ]
  },
  {
   "cell_type": "code",
   "execution_count": 12,
   "metadata": {
    "id": "TtlSerBeVMyg"
   },
   "outputs": [
    {
     "data": {
      "text/plain": [
       "['gpt-3.5-turbo',\n",
       " 'gpt-3.5-turbo-0613',\n",
       " 'gpt-3.5-turbo-16k-0613',\n",
       " 'gpt-4-0314',\n",
       " 'gpt-3.5-turbo-16k',\n",
       " 'gpt-4-0613',\n",
       " 'gpt-4',\n",
       " 'gpt-3.5-turbo-0301']"
      ]
     },
     "execution_count": 12,
     "metadata": {},
     "output_type": "execute_result"
    }
   ],
   "source": [
    "[model for model in all_models if model.startswith('gpt')]"
   ]
  },
  {
   "cell_type": "code",
   "execution_count": 13,
   "metadata": {
    "id": "M5FSNzfqVyXA"
   },
   "outputs": [
    {
     "data": {
      "text/plain": [
       "['davinci',\n",
       " 'text-davinci-001',\n",
       " 'text-search-curie-query-001',\n",
       " 'gpt-3.5-turbo',\n",
       " 'babbage',\n",
       " 'text-babbage-001',\n",
       " 'curie-instruct-beta',\n",
       " 'davinci-similarity',\n",
       " 'code-davinci-edit-001',\n",
       " 'text-similarity-curie-001',\n",
       " 'ada-code-search-text',\n",
       " 'gpt-3.5-turbo-0613',\n",
       " 'text-search-ada-query-001',\n",
       " 'gpt-3.5-turbo-16k-0613',\n",
       " 'gpt-4-0314']"
      ]
     },
     "execution_count": 13,
     "metadata": {},
     "output_type": "execute_result"
    }
   ],
   "source": [
    "all_models[:15]"
   ]
  },
  {
   "cell_type": "markdown",
   "metadata": {
    "id": "jtY0yk83V3eg"
   },
   "source": [
    "Simple test Generation using GPT3"
   ]
  },
  {
   "cell_type": "code",
   "execution_count": 32,
   "metadata": {
    "id": "Tb28uyWdV6oP"
   },
   "outputs": [],
   "source": [
    "prompt = \"Explain the following code - import pandas as pd\"\n",
    "response = openai.Completion.create(model='text-davinci-003', prompt=prompt)"
   ]
  },
  {
   "cell_type": "code",
   "execution_count": 33,
   "metadata": {
    "id": "3YzUl3j4WXdH"
   },
   "outputs": [
    {
     "data": {
      "text/plain": [
       "dict_keys(['warning', 'id', 'object', 'created', 'model', 'choices', 'usage'])"
      ]
     },
     "execution_count": 33,
     "metadata": {},
     "output_type": "execute_result"
    }
   ],
   "source": [
    "response.keys()"
   ]
  },
  {
   "cell_type": "code",
   "execution_count": 34,
   "metadata": {
    "id": "OsbeQlT4Wbc3"
   },
   "outputs": [
    {
     "name": "stdout",
     "output_type": "stream",
     "text": [
      "\\m------- Choice {}-------- 1\n",
      "\n",
      "\n",
      "This code is using the Python Pandas library, which is used for\n"
     ]
    }
   ],
   "source": [
    "for i, choice in enumerate(response['choices'], start=1):\n",
    "  print('\\m------- Choice {}--------', format(i))\n",
    "  print(choice['text'])"
   ]
  },
  {
   "cell_type": "code",
   "execution_count": 17,
   "metadata": {
    "id": "IU4ttrAtWwbX"
   },
   "outputs": [
    {
     "data": {
      "text/plain": [
       "<OpenAIObject at 0x7f6bcc139210> JSON: {\n",
       "  \"prompt_tokens\": 8,\n",
       "  \"completion_tokens\": 16,\n",
       "  \"total_tokens\": 24\n",
       "}"
      ]
     },
     "execution_count": 17,
     "metadata": {},
     "output_type": "execute_result"
    }
   ],
   "source": [
    "response['usage']"
   ]
  },
  {
   "cell_type": "code",
   "execution_count": 19,
   "metadata": {
    "id": "8JVRNu7SXybX"
   },
   "outputs": [],
   "source": [
    "messages = [{'role':'user', 'content': \"Suggest three different ways of doing pushups\"}]\n",
    "\n",
    "\n",
    "response = openai.ChatCompletion.create(model='gpt-3.5-turbo', messages =messages)"
   ]
  },
  {
   "cell_type": "code",
   "execution_count": 20,
   "metadata": {
    "id": "roszpLAIYI2O"
   },
   "outputs": [
    {
     "name": "stdout",
     "output_type": "stream",
     "text": [
      "n-------Choice 1 ------\n",
      "Role :  assistant \n",
      "\n",
      "1. Traditional Push-Ups: Place your hands shoulder-width apart on the floor, keeping your body in a straight line from head to toe. Lower your chest towards the floor by bending your elbows, then push back up to the starting position. This classic form of push-ups targets the chest, shoulders, triceps, and core.\n",
      "\n",
      "2. Wide Push-Ups: Position your hands wider than shoulder-width apart, still maintaining a straight body line. As you lower yourself down, focus on engaging your chest muscles to maximize their activation. Wide push-ups are especially effective for targeting the outer chest muscles.\n",
      "\n",
      "3. Diamond Push-Ups: Place your hands close together directly beneath your chest, with your thumbs and index fingers forming a diamond shape. As you lower your body down, your elbows will naturally flare out, putting more emphasis on your triceps. Diamond push-ups are a great variation for targeting the triceps and inner chest muscles.\n"
     ]
    }
   ],
   "source": [
    "for i, choice in enumerate(response['choices'], start=1):\n",
    "  print('n-------Choice {} ------'.format(i))\n",
    "  print('Role : ', choice['message']['role'], '\\n')\n",
    "  print(choice['message']['content'])"
   ]
  },
  {
   "cell_type": "code",
   "execution_count": 21,
   "metadata": {
    "id": "osGxgI6MYxWu"
   },
   "outputs": [
    {
     "data": {
      "text/plain": [
       "[{'role': 'user', 'content': 'Suggest three different ways of doing pushups'},\n",
       " {'role': 'assistant',\n",
       "  'content': '1. Traditional Push-Ups: Place your hands shoulder-width apart on the floor, keeping your body in a straight line from head to toe. Lower your chest towards the floor by bending your elbows, then push back up to the starting position. This classic form of push-ups targets the chest, shoulders, triceps, and core.\\n\\n2. Wide Push-Ups: Position your hands wider than shoulder-width apart, still maintaining a straight body line. As you lower yourself down, focus on engaging your chest muscles to maximize their activation. Wide push-ups are especially effective for targeting the outer chest muscles.\\n\\n3. Diamond Push-Ups: Place your hands close together directly beneath your chest, with your thumbs and index fingers forming a diamond shape. As you lower your body down, your elbows will naturally flare out, putting more emphasis on your triceps. Diamond push-ups are a great variation for targeting the triceps and inner chest muscles.'}]"
      ]
     },
     "execution_count": 21,
     "metadata": {},
     "output_type": "execute_result"
    }
   ],
   "source": [
    "resp = response['choices'][0]\n",
    "messages = messages + [{'role': resp['message']['role'], 'content': resp['message']['content']}]\n",
    "messages"
   ]
  },
  {
   "cell_type": "code",
   "execution_count": 23,
   "metadata": {
    "id": "32ueK7JQahnH"
   },
   "outputs": [],
   "source": [
    "response = openai.ChatCompletion.create(model='gpt-3.5-turbo', messages =messages)"
   ]
  },
  {
   "cell_type": "code",
   "execution_count": 24,
   "metadata": {
    "id": "TS2DgZyqapjt"
   },
   "outputs": [
    {
     "name": "stdout",
     "output_type": "stream",
     "text": [
      "n-------Choice 1 ------\n",
      "Role :  assistant \n",
      "\n",
      "4. Incline Push-Ups: Find an elevated surface, such as a bench, step, or sturdy chair. Place your hands on the surface with your body at an angle, making it easier to perform the push-up. This modification reduces the amount of body weight you need to lift, making it suitable for beginners or those with limited upper body strength.\n",
      "\n",
      "5. Decline Push-Ups: Similar to the incline push-up, find an elevated surface, but this time position your feet on the raised surface instead of your hands. Your body will be in a decline position, increasing the challenge and intensity of the push-up. Decline push-ups place more emphasis on the shoulders and upper chest muscles.\n",
      "\n",
      "6. Spiderman Push-Ups: Begin in a traditional push-up position. As you lower yourself down, bring your knee towards your elbow on the same side of the body. Alternate sides with each repetition, mimicking a crawling motion. Spiderman push-ups engage the core, obliques, and hip flexors in addition to the chest, shoulders, and triceps.\n"
     ]
    }
   ],
   "source": [
    "for i, choice in enumerate(response['choices'], start=1):\n",
    "  print('n-------Choice {} ------'.format(i))\n",
    "  print('Role : ', choice['message']['role'], '\\n')\n",
    "  print(choice['message']['content'])"
   ]
  },
  {
   "cell_type": "markdown",
   "metadata": {
    "id": "UfBSfq_xay4G"
   },
   "source": [
    "Modify number of tokens\n",
    "* Completion defaults to 16 tokens\n",
    "* Chat completion defaults to INFINITE tokens - can be dangerous\n",
    "\n",
    "Use [tokenizer](https://platform.openai.com/tokenizer) to determine count ahead of time\n",
    "\n"
   ]
  },
  {
   "cell_type": "code",
   "execution_count": 25,
   "metadata": {
    "id": "TuODi7c3a5PP"
   },
   "outputs": [],
   "source": [
    "prompt = 'Suggest three different ways of doing pushups'\n",
    "response = openai.Completion.create(model='text-davinci-003', prompt = prompt, max_tokens = 200)"
   ]
  },
  {
   "cell_type": "code",
   "execution_count": 26,
   "metadata": {
    "id": "ei3t1O0GbTkG"
   },
   "outputs": [
    {
     "name": "stdout",
     "output_type": "stream",
     "text": [
      "n-------Choice 1 ------\n",
      "\n",
      "\n",
      "1. Standard Pushups: Begin in a plank position with your hands and toes on the ground. Keep your body in a straight line from your head to your toes and make sure your body weight is balanced evenly between your hands and toes. Bend your arms and lower your torso toward the ground until your elbows form a 90-degree angle. Return to starting position.\n",
      "\n",
      "2. Wide Pushups: Start in a plank position with your hands slightly wider than shoulder-width apart. Keep your body in a straight line from your head to your toes and make sure your body weight is balanced evenly between your hands and toes. Bend your arms and lower your torso toward the ground until your elbows form a 90-degree angle. Return to starting position.\n",
      "\n",
      "3. Plyometric Pushups: Start in a plank position with your hands slightly wider than shoulder-width apart. Lower your torso towards the ground to your elbows form about a 45-degree angle and then, in one explosive movement\n"
     ]
    }
   ],
   "source": [
    "for i, choice in enumerate(response['choices'], start=1):\n",
    "  print('n-------Choice {} ------'.format(i))\n",
    "  print(choice['text'])"
   ]
  },
  {
   "cell_type": "markdown",
   "metadata": {
    "id": "_o9896y2ccud"
   },
   "source": [
    "MOdify number of returned choices"
   ]
  },
  {
   "cell_type": "code",
   "execution_count": 27,
   "metadata": {
    "id": "COPs_PyOcfR1"
   },
   "outputs": [],
   "source": [
    "prompt = 'Suggest three different ways of doing pushups'\n",
    "response = openai.Completion.create(model='text-davinci-003', prompt = prompt, max_tokens = 200, n=3)"
   ]
  },
  {
   "cell_type": "code",
   "execution_count": 28,
   "metadata": {
    "id": "GyhlFwRocqXF"
   },
   "outputs": [
    {
     "name": "stdout",
     "output_type": "stream",
     "text": [
      "n-------Choice 1 ------\n",
      "\n",
      "\n",
      "1. Standard Pushup: Start in a full plank position with your palms flat on the floor and your legs extended behind you. Lower your body until your chest nearly touches the floor. Pause, then press through your palms to return to the starting position.\n",
      "\n",
      "2. Wall Pushup: Stand facing a wall and place your hands flat against it, slightly wider than shoulder-width. Decrease or increase your distance from the wall to modify the intensity. Bend your elbows to lower your chest toward the wall. Then press back to starting position.\n",
      "\n",
      "3. Incline Pushup: Place two sturdy chairs together facing each other, and place your hands on the seat of one of the chairs. Then lower yourself until your chest nearly touches the back of the other chair, and press back up.\n",
      "n-------Choice 2 ------\n",
      "\n",
      "\n",
      "1. Standard Pushups: Start in a plank position with your arms, legs, and torso in a straight line. Then, lower your body until your chest is close to the ground, pause, and press into the floor and push back up to the starting position.\n",
      "\n",
      "2. Wide Arm Pushups: This variant of the standard pushup targets the chest, shoulders and triceps. Start in a standard pushup position but widen your hands and arms so your index fingers are about a 1-2 foot span apart. Then, lower your body until your chest is almost touching the ground, pause, and press back up to the starting position.\n",
      "\n",
      "3. Decline Pushups: This variation of the standard pushup targets the upper chest, shoulders and triceps. Start in a pushup position but rest your feet on a raised surface, like a sturdy chair or bench. Then, lower your body until your chest is close to the ground, pause, and press back\n",
      "n-------Choice 3 ------\n",
      "\n",
      "\n",
      "1. Standard Pushups - Start in a plank position with palms flat on the ground and shoulder-width apart. Lower your body until your chest is close to the ground and then press yourself back up.\n",
      "\n",
      "2. Incline Pushups - Place your hands on a raised surface like a kitchen counter, bench, or box. Your arms should be slightly wider than shoulder-distance apart and your upper body should be in a straight line. Lower your chest and then press back up.\n",
      "\n",
      "3. Wall Pushups - Stand about an arm’s length away from a wall and place your hands flat on the wall. Straighten your arms and lean your body forward until your chest touches the wall. Push back up and repeat.\n"
     ]
    }
   ],
   "source": [
    "for i, choice in enumerate(response['choices'], start=1):\n",
    "  print('n-------Choice {} ------'.format(i))\n",
    "  print(choice['text'])"
   ]
  },
  {
   "cell_type": "code",
   "execution_count": 29,
   "metadata": {
    "id": "MAeEy_iicsjt"
   },
   "outputs": [
    {
     "data": {
      "text/plain": [
       "<OpenAIObject at 0x7f6baccd2c50> JSON: {\n",
       "  \"prompt_tokens\": 8,\n",
       "  \"completion_tokens\": 517,\n",
       "  \"total_tokens\": 525\n",
       "}"
      ]
     },
     "execution_count": 29,
     "metadata": {},
     "output_type": "execute_result"
    }
   ],
   "source": [
    "response['usage']"
   ]
  },
  {
   "cell_type": "markdown",
   "metadata": {
    "id": "KQFAeMWndYU8"
   },
   "source": [
    "Set temperature to achive randomsness - try 0.0 and 0.5"
   ]
  },
  {
   "cell_type": "code",
   "execution_count": 30,
   "metadata": {
    "id": "UNT2QGbDdHO9"
   },
   "outputs": [],
   "source": [
    "prompt = 'Suggest three different ways of doing pushups'\n",
    "response = openai.Completion.create(model='text-davinci-003', prompt = prompt, max_tokens = 200, n=3, temperature = 0.0)"
   ]
  },
  {
   "cell_type": "code",
   "execution_count": 31,
   "metadata": {
    "id": "4OVLe4EUdfO9"
   },
   "outputs": [
    {
     "name": "stdout",
     "output_type": "stream",
     "text": [
      "n-------Choice 1 ------\n",
      "\n",
      "\n",
      "1. Standard Pushups: Begin in a plank position with your hands slightly wider than shoulder-width apart and your feet together. Lower your body until your chest nearly touches the floor, then push back up to the starting position.\n",
      "\n",
      "2. Incline Pushups: Place your hands on a raised surface such as a bench or chair. Lower your body until your chest nearly touches the surface, then push back up to the starting position.\n",
      "\n",
      "3. Wall Pushups: Stand facing a wall and place your hands on the wall at shoulder-width apart. Lean forward and lower your body until your chest nearly touches the wall, then push back up to the starting position.\n",
      "n-------Choice 2 ------\n",
      "\n",
      "\n",
      "1. Standard Pushups: Begin in a plank position with your hands slightly wider than shoulder-width apart and your feet together. Lower your body until your chest nearly touches the floor, then push back up to the starting position.\n",
      "\n",
      "2. Incline Pushups: Place your hands on a raised surface such as a bench or chair. Lower your body until your chest nearly touches the surface, then push back up to the starting position.\n",
      "\n",
      "3. Wall Pushups: Stand facing a wall and place your hands on the wall at shoulder-width apart. Lean forward and lower your body until your chest nearly touches the wall, then push back up to the starting position.\n",
      "n-------Choice 3 ------\n",
      "\n",
      "\n",
      "1. Standard Pushups: Begin in a plank position with your hands slightly wider than shoulder-width apart and your feet together. Lower your body until your chest nearly touches the floor, then push back up to the starting position.\n",
      "\n",
      "2. Incline Pushups: Place your hands on a raised surface such as a bench or chair. Lower your body until your chest nearly touches the surface, then push back up to the starting position.\n",
      "\n",
      "3. Wall Pushups: Stand facing a wall and place your hands on the wall at shoulder-width apart. Lean forward and lower your body until your chest nearly touches the wall, then push back up to the starting position.\n"
     ]
    }
   ],
   "source": [
    "for i, choice in enumerate(response['choices'], start=1):\n",
    "  print('n-------Choice {} ------'.format(i))\n",
    "  print(choice['text'])"
   ]
  },
  {
   "cell_type": "code",
   "execution_count": null,
   "metadata": {},
   "outputs": [],
   "source": []
  }
 ],
 "metadata": {
  "colab": {
   "authorship_tag": "ABX9TyNLxWRUCrq3yf7FWUDWw8AY",
   "provenance": []
  },
  "kernelspec": {
   "display_name": "Python 3 (ipykernel)",
   "language": "python",
   "name": "python3"
  },
  "language_info": {
   "codemirror_mode": {
    "name": "ipython",
    "version": 3
   },
   "file_extension": ".py",
   "mimetype": "text/x-python",
   "name": "python",
   "nbconvert_exporter": "python",
   "pygments_lexer": "ipython3",
   "version": "3.10.6"
  }
 },
 "nbformat": 4,
 "nbformat_minor": 4
}
